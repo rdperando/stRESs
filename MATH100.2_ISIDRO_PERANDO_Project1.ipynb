{
 "cells": [
  {
   "cell_type": "markdown",
   "id": "da67c949",
   "metadata": {},
   "source": [
    "Submitted by:\n",
    "\n",
    "- Matthew Angelo Isidro\n",
    "\n",
    "- Rodrigo Dexter Perando\n",
    "\n",
    "\n",
    "People I asked help from:\n",
    "\n",
    "\n",
    "Resources used for completing this project:\n",
    "\n",
    "\n",
    "https://numpy.org/doc/stable/reference/generated/numpy.cov.html"
   ]
  },
  {
   "cell_type": "code",
   "execution_count": 1,
   "id": "e8813920",
   "metadata": {},
   "outputs": [],
   "source": [
    "import numpy as np # Numerical Computing\n",
    "import pandas as pd # Data wrangling\n",
    "import matplotlib.pyplot as plt # Plotting\n",
    "from statistics import NormalDist # statistical analysis\n",
    "\n",
    "%matplotlib inline"
   ]
  },
  {
   "cell_type": "markdown",
   "id": "3ff362e5",
   "metadata": {},
   "source": [
    "# Part 1: Functional Implementation"
   ]
  },
  {
   "cell_type": "markdown",
   "id": "07d6bbec",
   "metadata": {},
   "source": [
    "1. undiversified_VaR_delta_normal_fx()"
   ]
  },
  {
   "cell_type": "code",
   "execution_count": 3,
   "id": "1ff60c2a",
   "metadata": {},
   "outputs": [],
   "source": [
    "def undiversified_VaR_delta_normal_fx():\n",
    "    return"
   ]
  },
  {
   "cell_type": "markdown",
   "id": "7284df94",
   "metadata": {},
   "source": [
    "2. diversified_VaR_delta_normal_fx()"
   ]
  },
  {
   "cell_type": "code",
   "execution_count": 5,
   "id": "6b5283a4",
   "metadata": {},
   "outputs": [],
   "source": [
    "def diversified_VaR_delta_normal_fx():\n",
    "    return"
   ]
  },
  {
   "cell_type": "markdown",
   "id": "4ebd0fb2",
   "metadata": {},
   "source": [
    "3. VaR_hs_fx()"
   ]
  },
  {
   "cell_type": "code",
   "execution_count": 6,
   "id": "1db696cd",
   "metadata": {},
   "outputs": [],
   "source": [
    "def VaR_hs_fx():\n",
    "    return"
   ]
  },
  {
   "cell_type": "markdown",
   "id": "685b3b7b",
   "metadata": {},
   "source": [
    "4. VaR_brw_fx()"
   ]
  },
  {
   "cell_type": "code",
   "execution_count": 7,
   "id": "e4b58d11",
   "metadata": {},
   "outputs": [],
   "source": [
    "def VaR_brw_fx():\n",
    "    return"
   ]
  },
  {
   "cell_type": "markdown",
   "id": "86cbdf5e",
   "metadata": {},
   "source": [
    "5. VaR_cfm_bonds()"
   ]
  },
  {
   "cell_type": "code",
   "execution_count": 9,
   "id": "ddbf2299",
   "metadata": {},
   "outputs": [],
   "source": [
    "def VaR_cfm_bonds():\n",
    "    return"
   ]
  },
  {
   "cell_type": "markdown",
   "id": "ee277ee7",
   "metadata": {},
   "source": [
    "6. undiversified_VaR_delta_normal_bonds()"
   ]
  },
  {
   "cell_type": "code",
   "execution_count": 11,
   "id": "52da890d",
   "metadata": {},
   "outputs": [],
   "source": [
    "def undiversified_VaR_delta_normal_bonds():\n",
    "    return"
   ]
  },
  {
   "cell_type": "markdown",
   "id": "f0247621",
   "metadata": {},
   "source": [
    "7. diversified_VaR_delta_normal_bonds()"
   ]
  },
  {
   "cell_type": "code",
   "execution_count": 12,
   "id": "ee008c43",
   "metadata": {},
   "outputs": [],
   "source": [
    "def diversified_VaR_delta_normal_bonds():\n",
    "    return"
   ]
  },
  {
   "cell_type": "markdown",
   "id": "abc33e38",
   "metadata": {},
   "source": [
    "8. VaR_hs_bonds()"
   ]
  },
  {
   "cell_type": "code",
   "execution_count": 13,
   "id": "d8380138",
   "metadata": {},
   "outputs": [],
   "source": [
    "def VaR_hs_bonds():\n",
    "    return"
   ]
  },
  {
   "cell_type": "markdown",
   "id": "2fbb7458",
   "metadata": {},
   "source": [
    "# Part 2: Validation"
   ]
  },
  {
   "cell_type": "markdown",
   "id": "1da95913",
   "metadata": {},
   "source": [
    "In Part 2, you will be using the functions you created in Part 1 to answer the following questions. The historical data for these items can be found in the data folder of our class Github repository. The historical data for currencies cover the trading period from October 17, 2011 to October 18, 2021.\n",
    "\n",
    "Assume that today is October 18, 2021. You are a portfolio risk manager who is assigned to analyze the market risk associated to the following portfolios (A and B) of currencies:\n",
    "\n",
    "Portfolio | USD | EUR | JPY | GBP | CHF\n",
    "----|---|---|---|---|---\n",
    "Position | long   | short  | long\t  | short  | long\n",
    "A\t        | 10,362 | 17,135 | 2,235,292 | 14,937 | 9,465\n",
    "B\t        | -\t     | -      | -         | 14,937 | 9,465\n",
    "\n"
   ]
  },
  {
   "cell_type": "markdown",
   "id": "3299f809",
   "metadata": {},
   "source": [
    "## Question A"
   ]
  },
  {
   "cell_type": "markdown",
   "id": "2574807b",
   "metadata": {},
   "source": [
    "Suppose market risk metrics are requested for Portfolio A.\n",
    "\n",
    "1. Calculate the undiversified and diversified one-day 99% VaR for the portfolio using the delta-normal approach.\n",
    "2. Use the historical simulation approach to compute the portfolio's one-day 99% VaR.\n",
    "3. Use the BRW approach with a decay factor of $\\lambda$= 0.85 to calculate the portfolio's one-day 99% VaR."
   ]
  },
  {
   "cell_type": "code",
   "execution_count": null,
   "id": "ba62ff31",
   "metadata": {},
   "outputs": [],
   "source": []
  },
  {
   "cell_type": "markdown",
   "id": "452b2172",
   "metadata": {},
   "source": [
    "## Question B"
   ]
  },
  {
   "cell_type": "markdown",
   "id": "68519ccc",
   "metadata": {},
   "source": [
    "We now look at the value-at-risk metrics for Portfolio B.\n",
    "\n",
    "Assume that the five-day volatility of each currency and the covariance of their returns follow exponentially weighted moving average models with the following decay parameters:\n",
    "\n",
    "Data | GBP | CHF | Covariance\n",
    "---|---|---|---\n",
    "Decay Parameter\t| 0.87\t| 0.90 |\t0.95\n",
    "\n",
    "Determine the undiversified and diversified five-day 95\\% VaR for the portfolio. What is the benefit of diversification?"
   ]
  },
  {
   "cell_type": "code",
   "execution_count": null,
   "id": "6f15f55c",
   "metadata": {},
   "outputs": [],
   "source": []
  },
  {
   "cell_type": "markdown",
   "id": "b5fcf1a7",
   "metadata": {},
   "source": [
    "## Question C"
   ]
  },
  {
   "cell_type": "markdown",
   "id": "19ea1b4f",
   "metadata": {},
   "source": [
    "Assume that today is October 18, 2021. Suppose market risk metrics are requested for Portfolio C consisting of long positions on the following four bonds:\n",
    "\n",
    "1. Roquefort Bond\n",
    "\n",
    " - A corporate bond with Php 1,000,000 face value, 8% p.a. coupon rate that pays interest annually, with maturity date on December 31, 2026.\n",
    "\n",
    "2. Camembert Bond\n",
    "\n",
    " - A corporate bond with Php 1,000,000 face value, 7.5% p.a. coupon rate that pays interest semiannually, with maturity date on June 1, 2022.\n",
    "\n",
    "3. Feta Bond\n",
    "\n",
    " - A T-bond with Php 1,000,000 face value, 6% p.a. coupon rate that pays interest quarterly, with maturity date on January 15, 2035.\n",
    "\n",
    "4. Gouda Bond\n",
    "\n",
    " - A zero-coupon bond with Php 1,000,000 face value, with maturity date on September 28, 2030.\n",
    " \n",
    "The historical continuously-compounded market yields for the four bonds can be found in the portfolio_c_yield_data.csv file. Assume an actual/360 day-count convention.\n",
    "\n",
    "1. Determine the dollar duration (DV01) for each bond.\n",
    "2. Calculate the portfolio's undiversified and diversified 10-day 99% VaR using Delta-Normal Approach. What is the benefit of diversification?\n",
    "3. Consider the subportfolio consisting only of Roquefort Bond and Camembert Bond. Assume that the ten-day bond volatilities and the covariance of their returns follow exponentially weighted moving average models with the following decay parameters:"
   ]
  },
  {
   "cell_type": "code",
   "execution_count": null,
   "id": "78745816",
   "metadata": {},
   "outputs": [],
   "source": []
  },
  {
   "cell_type": "markdown",
   "id": "c84bf5ee",
   "metadata": {},
   "source": [
    "## Question D"
   ]
  },
  {
   "cell_type": "markdown",
   "id": "885bb560",
   "metadata": {},
   "source": [
    "\n",
    "Question D\n",
    "Assume that today is October 18, 2021. Suppose market risk metrics are requested for Portfolio D consisting solely of a peso-denominated bond corporate bond with a principal of Php 10,000,000 and with maturity date on December 31, 2024. Suppose that the bond provides a coupon of 10% per annum payable semiannually.\n",
    "\n",
    "The historical continuously-compounded zero rates for benchmark tenors are provided in the portfolio_d_zero_rate_data.csv file.\n",
    "\n",
    "### Historical Simulation Approach\n",
    "\n",
    "1. Generate possible zero rates 10 days from now for the relevant tenors and determine the portfolio's 10-day 99% VaR using the historical simulation approach.\n",
    "\n",
    "### Cash Flow Mapping\n",
    "\n",
    "1. Estimate the volatilities and correlations of zero-coupon bonds maturing on the benchmark tenors using the given data. Print out the volatilities and the correlation matrix.\n",
    "2. Map the portfolio's cash flows to the benchmark tenors/standard buckets. Print out the weight $\\alpha_i$ for each cash flow.\n",
    "3. Print out the present values of the mapped cash flows at each benchmark tenor/standard bucket.\n",
    "4. Determine the portfolio's 10-day 99% VaR."
   ]
  },
  {
   "cell_type": "code",
   "execution_count": null,
   "id": "cf5610bf",
   "metadata": {},
   "outputs": [],
   "source": []
  },
  {
   "cell_type": "markdown",
   "id": "1a9d592e",
   "metadata": {},
   "source": [
    "# Part 3: Analysis"
   ]
  },
  {
   "cell_type": "markdown",
   "id": "a31ae4f3",
   "metadata": {},
   "source": [
    "For Part 3, you will analyze the effect of changing various parameters to the resulting Value-at-Risk of a portfolio."
   ]
  },
  {
   "cell_type": "markdown",
   "id": "dd95c78e",
   "metadata": {},
   "source": [
    "## Question A on Currencies\n",
    "\n",
    "Consider Portfolio A. Explore, analyze, and discuss the effect of changing the following parameters in the resulting VaR of each of the three methods (Delta-Normal, HS, BRW):\n",
    "\n",
    "1. confidence level\n",
    "2. value of N for N-day VaR\n",
    "3. time window of historical data used to calculate VaR\n",
    "4. decay parameter for BRW Approach\n",
    "\n",
    "Based on your sensitivity analysis, which of the three methods would best capture the market risk of the portfolio? Justify your choice."
   ]
  },
  {
   "cell_type": "code",
   "execution_count": null,
   "id": "7858de0e",
   "metadata": {},
   "outputs": [],
   "source": []
  },
  {
   "cell_type": "markdown",
   "id": "1995e286",
   "metadata": {},
   "source": [
    "## Question B on Bonds\n",
    "\n",
    "Consider Portfolio C and its undiversified 10-day 99% VaR which you calculated using Delta-Normal Approach in Part 2.\n",
    "\n",
    "Which of the four bonds in the fixed-income portfolio has the highest contribution to the undiversified 10-day 99% VaR? Why? Compare the individual VaRs and determine which factors and bond features led to the bond's high VaR contribution. Explore and discuss the effect of these factors and features to the resulting VaR."
   ]
  },
  {
   "cell_type": "code",
   "execution_count": null,
   "id": "809f2b69",
   "metadata": {},
   "outputs": [],
   "source": []
  }
 ],
 "metadata": {
  "kernelspec": {
   "display_name": "Python 3",
   "language": "python",
   "name": "python3"
  },
  "language_info": {
   "codemirror_mode": {
    "name": "ipython",
    "version": 3
   },
   "file_extension": ".py",
   "mimetype": "text/x-python",
   "name": "python",
   "nbconvert_exporter": "python",
   "pygments_lexer": "ipython3",
   "version": "3.8.8"
  }
 },
 "nbformat": 4,
 "nbformat_minor": 5
}
